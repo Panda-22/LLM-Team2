{
  "cells": [
    {
      "cell_type": "markdown",
      "id": "d6eff709",
      "metadata": {
        "id": "d6eff709"
      },
      "source": [
        "# Load"
      ]
    },
    {
      "cell_type": "code",
      "execution_count": 1,
      "id": "04e5db71",
      "metadata": {
        "id": "04e5db71"
      },
      "outputs": [],
      "source": [
        "from transformers import GPT2LMHeadModel, GPT2Tokenizer, pipeline"
      ]
    },
    {
      "cell_type": "markdown",
      "source": [
        "## load from google drive online"
      ],
      "metadata": {
        "id": "_L9jPPUDpSJQ"
      },
      "id": "_L9jPPUDpSJQ"
    },
    {
      "cell_type": "code",
      "source": [
        "# Set drive location as /mydrive\n",
        "!ln -s /content/drive/MyDrive/ /mydrive\n",
        "# See inside of /mdrive folder\n",
        "!ls /mydrive\n",
        "from google.colab import drive\n",
        "drive.mount('/content/drive')"
      ],
      "metadata": {
        "colab": {
          "base_uri": "https://localhost:8080/"
        },
        "id": "GzQiO6GImWGC",
        "outputId": "d79da380-661a-4641-8dd7-f60a4ecb07ed"
      },
      "id": "GzQiO6GImWGC",
      "execution_count": 2,
      "outputs": [
        {
          "output_type": "stream",
          "name": "stdout",
          "text": [
            "/mydrive\n",
            "Mounted at /content/drive\n"
          ]
        }
      ]
    },
    {
      "cell_type": "markdown",
      "source": [
        "## load from local path"
      ],
      "metadata": {
        "id": "H2wpSR33qBEp"
      },
      "id": "H2wpSR33qBEp"
    },
    {
      "cell_type": "code",
      "source": [
        "# load our model and tokenizer\n",
        "model = GPT2LMHeadModel.from_pretrained('C:\\\\Users\\\\user_name\\\\Documents\\\\saved files(model and tokenizer)') # change into the local path\n",
        "tokenizer = GPT2Tokenizer.from_pretrained('''local path''')\n",
        "\n",
        "# set pad_token of tokenizer as eos_token\n",
        "tokenizer.pad_token = tokenizer.eos_token\n",
        "\n",
        "# # create pipeline with our model and tokenizer\n",
        "generator = pipeline('text-generation', model=model, tokenizer=tokenizer)\n",
        "\n",
        "# # test the function\n",
        "print(generator(\"a kind of saulty cocktail\", max_length=100))"
      ],
      "metadata": {
        "id": "tPY7vScDqFi8",
        "colab": {
          "base_uri": "https://localhost:8080/",
          "height": 634
        },
        "outputId": "4235bed4-e7fa-4911-bf39-04b7a5d196dd"
      },
      "id": "tPY7vScDqFi8",
      "execution_count": 3,
      "outputs": [
        {
          "output_type": "error",
          "ename": "OSError",
          "evalue": "Incorrect path_or_model_id: 'C:\\Users\\user_name\\Documents\\saved files(model and tokenizer)'. Please provide either the path to a local folder or the repo_id of a model on the Hub.",
          "traceback": [
            "\u001b[0;31m---------------------------------------------------------------------------\u001b[0m",
            "\u001b[0;31mHFValidationError\u001b[0m                         Traceback (most recent call last)",
            "\u001b[0;32m/usr/local/lib/python3.10/dist-packages/transformers/utils/hub.py\u001b[0m in \u001b[0;36mcached_file\u001b[0;34m(path_or_repo_id, filename, cache_dir, force_download, resume_download, proxies, token, revision, local_files_only, subfolder, repo_type, user_agent, _raise_exceptions_for_gated_repo, _raise_exceptions_for_missing_entries, _raise_exceptions_for_connection_errors, _commit_hash, **deprecated_kwargs)\u001b[0m\n\u001b[1;32m    397\u001b[0m         \u001b[0;31m# Load from URL or cache if already cached\u001b[0m\u001b[0;34m\u001b[0m\u001b[0;34m\u001b[0m\u001b[0m\n\u001b[0;32m--> 398\u001b[0;31m         resolved_file = hf_hub_download(\n\u001b[0m\u001b[1;32m    399\u001b[0m             \u001b[0mpath_or_repo_id\u001b[0m\u001b[0;34m,\u001b[0m\u001b[0;34m\u001b[0m\u001b[0;34m\u001b[0m\u001b[0m\n",
            "\u001b[0;32m/usr/local/lib/python3.10/dist-packages/huggingface_hub/utils/_validators.py\u001b[0m in \u001b[0;36m_inner_fn\u001b[0;34m(*args, **kwargs)\u001b[0m\n\u001b[1;32m    109\u001b[0m             \u001b[0;32mif\u001b[0m \u001b[0marg_name\u001b[0m \u001b[0;32min\u001b[0m \u001b[0;34m[\u001b[0m\u001b[0;34m\"repo_id\"\u001b[0m\u001b[0;34m,\u001b[0m \u001b[0;34m\"from_id\"\u001b[0m\u001b[0;34m,\u001b[0m \u001b[0;34m\"to_id\"\u001b[0m\u001b[0;34m]\u001b[0m\u001b[0;34m:\u001b[0m\u001b[0;34m\u001b[0m\u001b[0;34m\u001b[0m\u001b[0m\n\u001b[0;32m--> 110\u001b[0;31m                 \u001b[0mvalidate_repo_id\u001b[0m\u001b[0;34m(\u001b[0m\u001b[0marg_value\u001b[0m\u001b[0;34m)\u001b[0m\u001b[0;34m\u001b[0m\u001b[0;34m\u001b[0m\u001b[0m\n\u001b[0m\u001b[1;32m    111\u001b[0m \u001b[0;34m\u001b[0m\u001b[0m\n",
            "\u001b[0;32m/usr/local/lib/python3.10/dist-packages/huggingface_hub/utils/_validators.py\u001b[0m in \u001b[0;36mvalidate_repo_id\u001b[0;34m(repo_id)\u001b[0m\n\u001b[1;32m    163\u001b[0m     \u001b[0;32mif\u001b[0m \u001b[0;32mnot\u001b[0m \u001b[0mREPO_ID_REGEX\u001b[0m\u001b[0;34m.\u001b[0m\u001b[0mmatch\u001b[0m\u001b[0;34m(\u001b[0m\u001b[0mrepo_id\u001b[0m\u001b[0;34m)\u001b[0m\u001b[0;34m:\u001b[0m\u001b[0;34m\u001b[0m\u001b[0;34m\u001b[0m\u001b[0m\n\u001b[0;32m--> 164\u001b[0;31m         raise HFValidationError(\n\u001b[0m\u001b[1;32m    165\u001b[0m             \u001b[0;34m\"Repo id must use alphanumeric chars or '-', '_', '.', '--' and '..' are\"\u001b[0m\u001b[0;34m\u001b[0m\u001b[0;34m\u001b[0m\u001b[0m\n",
            "\u001b[0;31mHFValidationError\u001b[0m: Repo id must use alphanumeric chars or '-', '_', '.', '--' and '..' are forbidden, '-' and '.' cannot start or end the name, max length is 96: 'C:\\Users\\user_name\\Documents\\saved files(model and tokenizer)'.",
            "\nThe above exception was the direct cause of the following exception:\n",
            "\u001b[0;31mOSError\u001b[0m                                   Traceback (most recent call last)",
            "\u001b[0;32m<ipython-input-3-8275e923838c>\u001b[0m in \u001b[0;36m<cell line: 2>\u001b[0;34m()\u001b[0m\n\u001b[1;32m      1\u001b[0m \u001b[0;31m# load our model and tokenizer\u001b[0m\u001b[0;34m\u001b[0m\u001b[0;34m\u001b[0m\u001b[0m\n\u001b[0;32m----> 2\u001b[0;31m \u001b[0mmodel\u001b[0m \u001b[0;34m=\u001b[0m \u001b[0mGPT2LMHeadModel\u001b[0m\u001b[0;34m.\u001b[0m\u001b[0mfrom_pretrained\u001b[0m\u001b[0;34m(\u001b[0m\u001b[0;34m'C:\\\\Users\\\\user_name\\\\Documents\\\\saved files(model and tokenizer)'\u001b[0m\u001b[0;34m)\u001b[0m \u001b[0;31m# change into the local path\u001b[0m\u001b[0;34m\u001b[0m\u001b[0;34m\u001b[0m\u001b[0m\n\u001b[0m\u001b[1;32m      3\u001b[0m \u001b[0mtokenizer\u001b[0m \u001b[0;34m=\u001b[0m \u001b[0mGPT2Tokenizer\u001b[0m\u001b[0;34m.\u001b[0m\u001b[0mfrom_pretrained\u001b[0m\u001b[0;34m(\u001b[0m\u001b[0;34m'''local path'''\u001b[0m\u001b[0;34m)\u001b[0m\u001b[0;34m\u001b[0m\u001b[0;34m\u001b[0m\u001b[0m\n\u001b[1;32m      4\u001b[0m \u001b[0;34m\u001b[0m\u001b[0m\n\u001b[1;32m      5\u001b[0m \u001b[0;31m# set pad_token of tokenizer as eos_token\u001b[0m\u001b[0;34m\u001b[0m\u001b[0;34m\u001b[0m\u001b[0m\n",
            "\u001b[0;32m/usr/local/lib/python3.10/dist-packages/transformers/modeling_utils.py\u001b[0m in \u001b[0;36mfrom_pretrained\u001b[0;34m(cls, pretrained_model_name_or_path, config, cache_dir, ignore_mismatched_sizes, force_download, local_files_only, token, revision, use_safetensors, *model_args, **kwargs)\u001b[0m\n\u001b[1;32m   2872\u001b[0m             \u001b[0;32mif\u001b[0m \u001b[0;32mnot\u001b[0m \u001b[0misinstance\u001b[0m\u001b[0;34m(\u001b[0m\u001b[0mconfig\u001b[0m\u001b[0;34m,\u001b[0m \u001b[0mPretrainedConfig\u001b[0m\u001b[0;34m)\u001b[0m\u001b[0;34m:\u001b[0m\u001b[0;34m\u001b[0m\u001b[0;34m\u001b[0m\u001b[0m\n\u001b[1;32m   2873\u001b[0m                 \u001b[0;31m# We make a call to the config file first (which may be absent) to get the commit hash as soon as possible\u001b[0m\u001b[0;34m\u001b[0m\u001b[0;34m\u001b[0m\u001b[0m\n\u001b[0;32m-> 2874\u001b[0;31m                 resolved_config_file = cached_file(\n\u001b[0m\u001b[1;32m   2875\u001b[0m                     \u001b[0mpretrained_model_name_or_path\u001b[0m\u001b[0;34m,\u001b[0m\u001b[0;34m\u001b[0m\u001b[0;34m\u001b[0m\u001b[0m\n\u001b[1;32m   2876\u001b[0m                     \u001b[0mCONFIG_NAME\u001b[0m\u001b[0;34m,\u001b[0m\u001b[0;34m\u001b[0m\u001b[0;34m\u001b[0m\u001b[0m\n",
            "\u001b[0;32m/usr/local/lib/python3.10/dist-packages/transformers/utils/hub.py\u001b[0m in \u001b[0;36mcached_file\u001b[0;34m(path_or_repo_id, filename, cache_dir, force_download, resume_download, proxies, token, revision, local_files_only, subfolder, repo_type, user_agent, _raise_exceptions_for_gated_repo, _raise_exceptions_for_missing_entries, _raise_exceptions_for_connection_errors, _commit_hash, **deprecated_kwargs)\u001b[0m\n\u001b[1;32m    460\u001b[0m         \u001b[0;32mraise\u001b[0m \u001b[0mEnvironmentError\u001b[0m\u001b[0;34m(\u001b[0m\u001b[0;34mf\"There was a specific connection error when trying to load {path_or_repo_id}:\\n{err}\"\u001b[0m\u001b[0;34m)\u001b[0m\u001b[0;34m\u001b[0m\u001b[0;34m\u001b[0m\u001b[0m\n\u001b[1;32m    461\u001b[0m     \u001b[0;32mexcept\u001b[0m \u001b[0mHFValidationError\u001b[0m \u001b[0;32mas\u001b[0m \u001b[0me\u001b[0m\u001b[0;34m:\u001b[0m\u001b[0;34m\u001b[0m\u001b[0;34m\u001b[0m\u001b[0m\n\u001b[0;32m--> 462\u001b[0;31m         raise EnvironmentError(\n\u001b[0m\u001b[1;32m    463\u001b[0m             \u001b[0;34mf\"Incorrect path_or_model_id: '{path_or_repo_id}'. Please provide either the path to a local folder or the repo_id of a model on the Hub.\"\u001b[0m\u001b[0;34m\u001b[0m\u001b[0;34m\u001b[0m\u001b[0m\n\u001b[1;32m    464\u001b[0m         ) from e\n",
            "\u001b[0;31mOSError\u001b[0m: Incorrect path_or_model_id: 'C:\\Users\\user_name\\Documents\\saved files(model and tokenizer)'. Please provide either the path to a local folder or the repo_id of a model on the Hub."
          ]
        }
      ]
    },
    {
      "cell_type": "markdown",
      "id": "4d92f08f",
      "metadata": {
        "id": "4d92f08f"
      },
      "source": [
        "# Chatbot"
      ]
    },
    {
      "cell_type": "code",
      "execution_count": 4,
      "id": "318978b9",
      "metadata": {
        "id": "318978b9"
      },
      "outputs": [],
      "source": [
        "from transformers import Conversation"
      ]
    },
    {
      "cell_type": "markdown",
      "source": [
        "## test online(previous)(colab)"
      ],
      "metadata": {
        "id": "28oGoOm5pgVo"
      },
      "id": "28oGoOm5pgVo"
    },
    {
      "cell_type": "code",
      "execution_count": 5,
      "id": "fa048722",
      "metadata": {
        "colab": {
          "base_uri": "https://localhost:8080/"
        },
        "id": "fa048722",
        "outputId": "bba02a43-53d2-4cf8-8c03-8909c6146c3d"
      },
      "outputs": [
        {
          "output_type": "stream",
          "name": "stderr",
          "text": [
            "Truncation was not explicitly activated but `max_length` is provided a specific value, please use `truncation=True` to explicitly truncate examples to max length. Defaulting to 'longest_first' truncation strategy. If you encode pairs of sequences (GLUE-style) with the tokenizer you can select this strategy more precisely by providing a specific strategy to `truncation`.\n",
            "Setting `pad_token_id` to `eos_token_id`:50256 for open-end generation.\n"
          ]
        },
        {
          "output_type": "stream",
          "name": "stdout",
          "text": [
            "[{'generated_text': 'a kind of saulty cocktail, to be layered with fruit liqueur, in the same manner as Ã\\x8ele Carré, in France. One version uses a Campari coupe garnish, while the other calls for a splash of club soda. If this recipe has a bit of a clovey aftertaste, with a dash of fresh cachaça or Kahlúa, please do not try this.. Directions:. '}]\n"
          ]
        }
      ],
      "source": [
        "# load our model and tokenizer\n",
        "model = GPT2LMHeadModel.from_pretrained('./drive/MyDrive/20240331_saved model and tokenizer') # change into the private google drive path\n",
        "tokenizer = GPT2Tokenizer.from_pretrained('./drive/MyDrive/20240331_saved model and tokenizer')\n",
        "\n",
        "# set pad_token of tokenizer as eos_token\n",
        "tokenizer.pad_token = tokenizer.eos_token\n",
        "\n",
        "# set padding_side='left'\n",
        "tokenizer.padding_side = \"left\"\n",
        "\n",
        "# # create pipeline with our model and tokenizer\n",
        "generator = pipeline('text-generation', model=model, tokenizer=tokenizer)\n",
        "\n",
        "# # test the function\n",
        "print(generator(\"a kind of saulty cocktail\", max_length=200))"
      ]
    },
    {
      "cell_type": "code",
      "source": [
        "# Initialize pipeline 'chatbot'\n",
        "chatbot = pipeline('conversational', model=model, tokenizer=tokenizer)\n",
        "# Initialize conversation 初始化对话\n",
        "conversation = Conversation(\"give me a recipe of cocktail?\")\n",
        "\n",
        "# run pipeline 运行对话管道并获取模型的回复\n",
        "conversation = chatbot([conversation])\n",
        "print(conversation)"
      ],
      "metadata": {
        "colab": {
          "base_uri": "https://localhost:8080/"
        },
        "id": "mMwzboa4nWMZ",
        "outputId": "2f6692ac-8dd8-4fea-9cf6-36f22ac96588"
      },
      "id": "mMwzboa4nWMZ",
      "execution_count": 6,
      "outputs": [
        {
          "output_type": "stream",
          "name": "stderr",
          "text": [
            "\n",
            "No chat template is defined for this tokenizer - using the default template for the GPT2Tokenizer class. If the default is not appropriate for your model, please set `tokenizer.chat_template` to an appropriate template. See https://huggingface.co/docs/transformers/main/chat_templating for more information.\n",
            "\n",
            "The attention mask and the pad token id were not set. As a consequence, you may observe unexpected behavior. Please pass your input's `attention_mask` to obtain reliable results.\n",
            "Setting `pad_token_id` to `eos_token_id`:50256 for open-end generation.\n",
            "A decoder-only architecture is being used, but right-padding was detected! For correct generation results, please set `padding_side='left'` when initializing the tokenizer.\n"
          ]
        },
        {
          "output_type": "stream",
          "name": "stdout",
          "text": [
            "Conversation id: d2ce9e8e-c838-4130-868a-8ea562245201\n",
            "user: give me a recipe of cocktail?\n",
            "assistant: WASHINGTON (Reuters) - President George W. Bush is set to visit the White House garden this spring, the White House said on Saturday, in a first for the first U.S. president to visit a national park.\n",
            "\n",
            "A boy from the White House garden serves fruit to a hungry raccoon later in the garden in Washington July 3, 2005. REUTERS/Yoo Sang-man\n",
            "\n",
            "The visit will be the first by a sitting U.S. president to visit Washington's Key Lime Mart, an annual event that features a dinner and parade float with President George Washington, the official garden decorator.\n",
            "\n",
            "The inaugural float was created in honor of the 18th President, but the White House spent more than 20 years in a state of the art research and development known as the \"Pearl Harbor\" moment, where the White House spent more money than it made and had to increase staffing.,\n",
            "\n"
          ]
        }
      ]
    },
    {
      "cell_type": "code",
      "source": [
        "user_input = \"please give me another cocktail recipe?\"\n",
        "conversation.add_user_input(user_input)\n",
        "conversation = chatbot([conversation])\n",
        "print(conversation)"
      ],
      "metadata": {
        "colab": {
          "base_uri": "https://localhost:8080/"
        },
        "id": "p12bbsb-oOSY",
        "outputId": "1d6edd82-b46f-474c-9e34-b1b97de3a0bf"
      },
      "id": "p12bbsb-oOSY",
      "execution_count": 7,
      "outputs": [
        {
          "output_type": "stream",
          "name": "stderr",
          "text": [
            "The attention mask and the pad token id were not set. As a consequence, you may observe unexpected behavior. Please pass your input's `attention_mask` to obtain reliable results.\n",
            "Setting `pad_token_id` to `eos_token_id`:50256 for open-end generation.\n",
            "A decoder-only architecture is being used, but right-padding was detected! For correct generation results, please set `padding_side='left'` when initializing the tokenizer.\n"
          ]
        },
        {
          "output_type": "stream",
          "name": "stdout",
          "text": [
            "Conversation id: d2ce9e8e-c838-4130-868a-8ea562245201\n",
            "user: give me a recipe of cocktail?\n",
            "assistant: WASHINGTON (Reuters) - President George W. Bush is set to visit the White House garden this spring, the White House said on Saturday, in a first for the first U.S. president to visit a national park.\n",
            "\n",
            "A boy from the White House garden serves fruit to a hungry raccoon later in the garden in Washington July 3, 2005. REUTERS/Yoo Sang-man\n",
            "\n",
            "The visit will be the first by a sitting U.S. president to visit Washington's Key Lime Mart, an annual event that features a dinner and parade float with President George Washington, the official garden decorator.\n",
            "\n",
            "The inaugural float was created in honor of the 18th President, but the White House spent more than 20 years in a state of the art research and development known as the \"Pearl Harbor\" moment, where the White House spent more money than it made and had to increase staffing.,\n",
            "user: please give me another cocktail recipe?\n",
            "assistant:    1 1/2 ounces vodka, 1/3 ounce Kahlúa, 1/4 ounce gin, 1/4 ounce fresh lemon juice, 1 ounce fresh lime juice. Directions: Combine ingredients (except the garnish)es in a bowl. Sprinkle the top with white chocolate.. \n",
            "\n"
          ]
        }
      ]
    },
    {
      "cell_type": "code",
      "source": [
        "user_input = \"please directively describe the recipe?\"\n",
        "conversation.add_user_input(user_input)\n",
        "conversation = chatbot([conversation])\n",
        "print(conversation)"
      ],
      "metadata": {
        "colab": {
          "base_uri": "https://localhost:8080/"
        },
        "id": "YObXvRqfoewD",
        "outputId": "1b4e1a73-fc9b-4ce8-cff1-171fb33f3cf5"
      },
      "id": "YObXvRqfoewD",
      "execution_count": 8,
      "outputs": [
        {
          "output_type": "stream",
          "name": "stderr",
          "text": [
            "The attention mask and the pad token id were not set. As a consequence, you may observe unexpected behavior. Please pass your input's `attention_mask` to obtain reliable results.\n",
            "Setting `pad_token_id` to `eos_token_id`:50256 for open-end generation.\n",
            "A decoder-only architecture is being used, but right-padding was detected! For correct generation results, please set `padding_side='left'` when initializing the tokenizer.\n"
          ]
        },
        {
          "output_type": "stream",
          "name": "stdout",
          "text": [
            "Conversation id: d2ce9e8e-c838-4130-868a-8ea562245201\n",
            "user: give me a recipe of cocktail?\n",
            "assistant: WASHINGTON (Reuters) - President George W. Bush is set to visit the White House garden this spring, the White House said on Saturday, in a first for the first U.S. president to visit a national park.\n",
            "\n",
            "A boy from the White House garden serves fruit to a hungry raccoon later in the garden in Washington July 3, 2005. REUTERS/Yoo Sang-man\n",
            "\n",
            "The visit will be the first by a sitting U.S. president to visit Washington's Key Lime Mart, an annual event that features a dinner and parade float with President George Washington, the official garden decorator.\n",
            "\n",
            "The inaugural float was created in honor of the 18th President, but the White House spent more than 20 years in a state of the art research and development known as the \"Pearl Harbor\" moment, where the White House spent more money than it made and had to increase staffing.,\n",
            "user: please give me another cocktail recipe?\n",
            "assistant:    1 1/2 ounces vodka, 1/3 ounce Kahlúa, 1/4 ounce gin, 1/4 ounce fresh lemon juice, 1 ounce fresh lime juice. Directions: Combine ingredients (except the garnish)es in a bowl. Sprinkle the top with white chocolate.. \n",
            "user: please directively describe the recipe?\n",
            "assistant: “ It's technically called a iced coffee-apple spiral but it gets its title from the dark area in the center,“ says co-author Mary Martin, an associate professor of kinesiology at Seattle Pacific University and author of How to Be a Black Believer. ( Also have this on your bucket list: a cup of old-fashioned coffee, with whipped cream, over ice. No? Yes?? But, good luck with that: There is no agreed-upon method for dissolving whipped cream, and a cup of coffee at this point will give you an extreme headache if you try to sludge it over a coffee cup..) To create the spiral, use vanilla ice as a substitute for the crème de cacao, and leave out the cocoa; the effect is the same as a whipped cream, Martin says. After that point, go with whatever coffee substitute you prefer., 2 ounces ground espresso, 1 ounce fresh lemon juice, Dash of grenadine, 2 to 3 ounces fresh iced coffee, 1 ounce heavy cream. Directions: Dry-shake, add ice, shake and strain into an ice-filled old-fashioned glass. Garnish with the whipped cream.\n",
            "\n"
          ]
        }
      ]
    },
    {
      "cell_type": "code",
      "source": [
        "user_input = \"please give me the recipe of Admiral Russell's Punch?\"\n",
        "conversation.add_user_input(user_input)\n",
        "conversation = chatbot([conversation])\n",
        "print(conversation)"
      ],
      "metadata": {
        "colab": {
          "base_uri": "https://localhost:8080/"
        },
        "id": "yuqyWjXWkFIo",
        "outputId": "6389c26e-2ddb-40fc-ea2c-6dbdd3baff45"
      },
      "id": "yuqyWjXWkFIo",
      "execution_count": 9,
      "outputs": [
        {
          "output_type": "stream",
          "name": "stderr",
          "text": [
            "The attention mask and the pad token id were not set. As a consequence, you may observe unexpected behavior. Please pass your input's `attention_mask` to obtain reliable results.\n",
            "Setting `pad_token_id` to `eos_token_id`:50256 for open-end generation.\n",
            "A decoder-only architecture is being used, but right-padding was detected! For correct generation results, please set `padding_side='left'` when initializing the tokenizer.\n"
          ]
        },
        {
          "output_type": "stream",
          "name": "stdout",
          "text": [
            "Conversation id: d2ce9e8e-c838-4130-868a-8ea562245201\n",
            "user: give me a recipe of cocktail?\n",
            "assistant: WASHINGTON (Reuters) - President George W. Bush is set to visit the White House garden this spring, the White House said on Saturday, in a first for the first U.S. president to visit a national park.\n",
            "\n",
            "A boy from the White House garden serves fruit to a hungry raccoon later in the garden in Washington July 3, 2005. REUTERS/Yoo Sang-man\n",
            "\n",
            "The visit will be the first by a sitting U.S. president to visit Washington's Key Lime Mart, an annual event that features a dinner and parade float with President George Washington, the official garden decorator.\n",
            "\n",
            "The inaugural float was created in honor of the 18th President, but the White House spent more than 20 years in a state of the art research and development known as the \"Pearl Harbor\" moment, where the White House spent more money than it made and had to increase staffing.,\n",
            "user: please give me another cocktail recipe?\n",
            "assistant:    1 1/2 ounces vodka, 1/3 ounce Kahlúa, 1/4 ounce gin, 1/4 ounce fresh lemon juice, 1 ounce fresh lime juice. Directions: Combine ingredients (except the garnish)es in a bowl. Sprinkle the top with white chocolate.. \n",
            "user: please directively describe the recipe?\n",
            "assistant: “ It's technically called a iced coffee-apple spiral but it gets its title from the dark area in the center,“ says co-author Mary Martin, an associate professor of kinesiology at Seattle Pacific University and author of How to Be a Black Believer. ( Also have this on your bucket list: a cup of old-fashioned coffee, with whipped cream, over ice. No? Yes?? But, good luck with that: There is no agreed-upon method for dissolving whipped cream, and a cup of coffee at this point will give you an extreme headache if you try to sludge it over a coffee cup..) To create the spiral, use vanilla ice as a substitute for the crème de cacao, and leave out the cocoa; the effect is the same as a whipped cream, Martin says. After that point, go with whatever coffee substitute you prefer., 2 ounces ground espresso, 1 ounce fresh lemon juice, Dash of grenadine, 2 to 3 ounces fresh iced coffee, 1 ounce heavy cream. Directions: Dry-shake, add ice, shake and strain into an ice-filled old-fashioned glass. Garnish with the whipped cream.\n",
            "user: please give me the recipe of Admiral Russell's Punch?\n",
            "assistant: Some people prefer to be on their own. But what if you had a good friend who enjoyed being the master of his or her own destiny and was always hanging out with all the \"on his own time\" guys? If this was you, what do you try first, to please that person or, more importantly, where do you settle for when it comes to cocktail mixtos? I think you're going to end up with a drink too fine for this world, yet heavy on flavour and made up of ingredients that are too mind- numbingly named, for this modern cocktail, and yet don't have the right ingredients to gel together. But since I think that is a debate for another time, let's get on with the debate: do I Like The Grenadine Sour or The Gin Lemonade?? I know, I know, it is technically a Gin and Lemonade, but what is the point in this discussion, especially in 2017 where there is no more Gin and Lemonade?? Yes, technically it is a Lemonade, but this drink tastes very much like this: 2 cl Grenadine, 1 cl Cognac, 1 cl Vodka, add 1 lime straw.. Lemon, Vodka, Lime, Gin or no Gin but give me the\n",
            "\n"
          ]
        }
      ]
    },
    {
      "cell_type": "markdown",
      "source": [
        "## test online(latest)(colab)"
      ],
      "metadata": {
        "id": "e6DJpKUwexlX"
      },
      "id": "e6DJpKUwexlX"
    },
    {
      "cell_type": "code",
      "source": [
        "# load our model and tokenizer\n",
        "model = GPT2LMHeadModel.from_pretrained('./drive/MyDrive/20240416_saved_model_and_tokenizer') # change into the private google drive path\n",
        "tokenizer = GPT2Tokenizer.from_pretrained('./drive/MyDrive/20240416_saved_model_and_tokenizer')\n",
        "\n",
        "# set pad_token of tokenizer as eos_token\n",
        "tokenizer.pad_token = tokenizer.eos_token\n",
        "\n",
        "# # create pipeline with our model and tokenizer\n",
        "generator = pipeline('text-generation', model=model, tokenizer=tokenizer)\n",
        "\n",
        "# # test the function\n",
        "print(generator(\"a kind of saulty cocktail\", max_length=200))"
      ],
      "metadata": {
        "colab": {
          "base_uri": "https://localhost:8080/"
        },
        "id": "DssQBulgewvV",
        "outputId": "94880790-77af-49c3-efb3-8e5f6f457bd9"
      },
      "id": "DssQBulgewvV",
      "execution_count": 10,
      "outputs": [
        {
          "output_type": "stream",
          "name": "stderr",
          "text": [
            "Truncation was not explicitly activated but `max_length` is provided a specific value, please use `truncation=True` to explicitly truncate examples to max length. Defaulting to 'longest_first' truncation strategy. If you encode pairs of sequences (GLUE-style) with the tokenizer you can select this strategy more precisely by providing a specific strategy to `truncation`.\n",
            "Setting `pad_token_id` to `eos_token_id`:50256 for open-end generation.\n"
          ]
        },
        {
          "output_type": "stream",
          "name": "stdout",
          "text": [
            "[{'generated_text': 'a kind of saulty cocktail—one with gin instead of sweet vermouth, and a dash of maraschino liqueur.,, 1 1/2 ounces gin, 1 ounce blue curaçao, 1 ounce fresh orange juice, 3 to 5 ounces chilled club soda, Orange slice. Directions: Stir ingredients in mixing glass with ice. Strain into a chilled cocktail glass.. '}]\n"
          ]
        }
      ]
    },
    {
      "cell_type": "code",
      "source": [
        "# Initialize pipeline 'chatbot'\n",
        "chatbot = pipeline('conversational', model=model, tokenizer=tokenizer)\n",
        "# Initialize conversation 初始化对话\n",
        "conversation = Conversation(\"give me a recipe of cocktail?\")\n",
        "\n",
        "# run pipeline 运行对话管道并获取模型的回复\n",
        "conversation = chatbot([conversation])\n",
        "print(conversation)"
      ],
      "metadata": {
        "colab": {
          "base_uri": "https://localhost:8080/"
        },
        "id": "r6_gLJEPh78Y",
        "outputId": "d27c8c5a-955d-4840-f7df-1d36a17c8ffc"
      },
      "id": "r6_gLJEPh78Y",
      "execution_count": 14,
      "outputs": [
        {
          "output_type": "stream",
          "name": "stderr",
          "text": [
            "The attention mask and the pad token id were not set. As a consequence, you may observe unexpected behavior. Please pass your input's `attention_mask` to obtain reliable results.\n",
            "Setting `pad_token_id` to `eos_token_id`:50256 for open-end generation.\n",
            "A decoder-only architecture is being used, but right-padding was detected! For correct generation results, please set `padding_side='left'` when initializing the tokenizer.\n"
          ]
        },
        {
          "output_type": "stream",
          "name": "stdout",
          "text": [
            "Conversation id: 2d013ce2-756d-40b4-83fd-5525f2f934e2\n",
            "user: give me a recipe of cocktail?\n",
            "assistant: WASHINGTON (Reuters) - A New York City cabdriver was charged on Monday with multiple counts of drunk driving, the latest in a slew of high-profile incidents in the so-called \"Cab Call\" scandal, as the city worked to settle the dispute with the caddy's club.\n",
            "\n",
            "Anthony Bologna, the cabdriver charged with multiple counts of DWI, is seen in this still image from a video shot in the Bronx on July 23, 2012. REUTERS/Algernon Blackmore/Invision/Handout via REUTERS\n",
            "\n",
            "Police charged 71-year-old Tony Bungle with two counts of driving while intoxicated, one for each of the past two days, according to a news release from the Manhattan district attorney's office.\n",
            "\n",
            "The mugshot from the New York City Polyclinic shows Bungle sitting motionless at the table with a glass of milk.\n",
            "\n",
            "On the side of the mugshot, his signature large, black, orange glow, one that appears to have been given to him by the bartender, is also visible, the district attorney spokesman said.\n",
            "\n",
            "Bungle, who was charged with multiple counts of DWI on page two of the mug shot, appears to be in good spirits, the district rep\n",
            "\n"
          ]
        }
      ]
    },
    {
      "cell_type": "code",
      "source": [
        "user_input = \"please give me another cocktail recipe?\"\n",
        "conversation.add_user_input(user_input)\n",
        "conversation = chatbot([conversation])\n",
        "print(conversation)"
      ],
      "metadata": {
        "colab": {
          "base_uri": "https://localhost:8080/"
        },
        "id": "wKlabdc7h-pc",
        "outputId": "fbe19e85-9f22-42d6-9b18-396c316d8a2a"
      },
      "id": "wKlabdc7h-pc",
      "execution_count": 15,
      "outputs": [
        {
          "output_type": "stream",
          "name": "stderr",
          "text": [
            "The attention mask and the pad token id were not set. As a consequence, you may observe unexpected behavior. Please pass your input's `attention_mask` to obtain reliable results.\n",
            "Setting `pad_token_id` to `eos_token_id`:50256 for open-end generation.\n",
            "A decoder-only architecture is being used, but right-padding was detected! For correct generation results, please set `padding_side='left'` when initializing the tokenizer.\n"
          ]
        },
        {
          "output_type": "stream",
          "name": "stdout",
          "text": [
            "Conversation id: 2d013ce2-756d-40b4-83fd-5525f2f934e2\n",
            "user: give me a recipe of cocktail?\n",
            "assistant: WASHINGTON (Reuters) - A New York City cabdriver was charged on Monday with multiple counts of drunk driving, the latest in a slew of high-profile incidents in the so-called \"Cab Call\" scandal, as the city worked to settle the dispute with the caddy's club.\n",
            "\n",
            "Anthony Bologna, the cabdriver charged with multiple counts of DWI, is seen in this still image from a video shot in the Bronx on July 23, 2012. REUTERS/Algernon Blackmore/Invision/Handout via REUTERS\n",
            "\n",
            "Police charged 71-year-old Tony Bungle with two counts of driving while intoxicated, one for each of the past two days, according to a news release from the Manhattan district attorney's office.\n",
            "\n",
            "The mugshot from the New York City Polyclinic shows Bungle sitting motionless at the table with a glass of milk.\n",
            "\n",
            "On the side of the mugshot, his signature large, black, orange glow, one that appears to have been given to him by the bartender, is also visible, the district attorney spokesman said.\n",
            "\n",
            "Bungle, who was charged with multiple counts of DWI on page two of the mug shot, appears to be in good spirits, the district rep\n",
            "user: please give me another cocktail recipe?\n",
            "assistant: ..  Ingredients:  1. The Ultimate Cocktail, 3 Dashes Angostura Bitters (most popular), 0.5 oz. Lime Juice, 1.5 Tsp. Grenadine, shake on ice and strain. Directions: Shake liquid ingredients with ice. Strain into a chilled cocktail glass. Garnish with a slice of lime.. \n",
            "\n"
          ]
        }
      ]
    },
    {
      "cell_type": "code",
      "source": [
        "user_input = \"please directively describe the recipe?\"\n",
        "conversation.add_user_input(user_input)\n",
        "conversation = chatbot([conversation])\n",
        "print(conversation)"
      ],
      "metadata": {
        "colab": {
          "base_uri": "https://localhost:8080/"
        },
        "id": "KIldI1sNiPZk",
        "outputId": "6d6df633-b83f-49ee-d6bd-d8ec9d570b56"
      },
      "id": "KIldI1sNiPZk",
      "execution_count": 16,
      "outputs": [
        {
          "output_type": "stream",
          "name": "stderr",
          "text": [
            "The attention mask and the pad token id were not set. As a consequence, you may observe unexpected behavior. Please pass your input's `attention_mask` to obtain reliable results.\n",
            "Setting `pad_token_id` to `eos_token_id`:50256 for open-end generation.\n",
            "A decoder-only architecture is being used, but right-padding was detected! For correct generation results, please set `padding_side='left'` when initializing the tokenizer.\n"
          ]
        },
        {
          "output_type": "stream",
          "name": "stdout",
          "text": [
            "Conversation id: 2d013ce2-756d-40b4-83fd-5525f2f934e2\n",
            "user: give me a recipe of cocktail?\n",
            "assistant: WASHINGTON (Reuters) - A New York City cabdriver was charged on Monday with multiple counts of drunk driving, the latest in a slew of high-profile incidents in the so-called \"Cab Call\" scandal, as the city worked to settle the dispute with the caddy's club.\n",
            "\n",
            "Anthony Bologna, the cabdriver charged with multiple counts of DWI, is seen in this still image from a video shot in the Bronx on July 23, 2012. REUTERS/Algernon Blackmore/Invision/Handout via REUTERS\n",
            "\n",
            "Police charged 71-year-old Tony Bungle with two counts of driving while intoxicated, one for each of the past two days, according to a news release from the Manhattan district attorney's office.\n",
            "\n",
            "The mugshot from the New York City Polyclinic shows Bungle sitting motionless at the table with a glass of milk.\n",
            "\n",
            "On the side of the mugshot, his signature large, black, orange glow, one that appears to have been given to him by the bartender, is also visible, the district attorney spokesman said.\n",
            "\n",
            "Bungle, who was charged with multiple counts of DWI on page two of the mug shot, appears to be in good spirits, the district rep\n",
            "user: please give me another cocktail recipe?\n",
            "assistant: ..  Ingredients:  1. The Ultimate Cocktail, 3 Dashes Angostura Bitters (most popular), 0.5 oz. Lime Juice, 1.5 Tsp. Grenadine, shake on ice and strain. Directions: Shake liquid ingredients with ice. Strain into a chilled cocktail glass. Garnish with a slice of lime.. \n",
            "user: please directively describe the recipe?\n",
            "assistant: ’Obey the Law’s Directions’s Guide: Don't drink and drive. No one’s business is secure from the flim-flamme.’s absinthe swizzle or Jameson Irish Cream.’s the perfect substitute.’s a variation on a Mary’s mare: one of those Southern belle types’s favorite drinks. If served in an appropriately seperated glass, there’s no point in claiming the honor.’s all that., Garnish with a lemon twist, and serve in a chilled cocktail glass. Directions: Build ingredients in a highball glass filled with ice. Garnish with lemon twist and serve with ice in the collins glass., Yes, this simple to make cocktail still goes well with lemon wedge and a cherry.. Garnish with lemon twist and serve in a chilled cocktail glass.\n",
            "\n"
          ]
        }
      ]
    },
    {
      "cell_type": "code",
      "source": [
        "user_input = \"please give me the recipe of Admiral Russell's Punch?\"\n",
        "conversation.add_user_input(user_input)\n",
        "conversation = chatbot([conversation])\n",
        "print(conversation)"
      ],
      "metadata": {
        "colab": {
          "base_uri": "https://localhost:8080/"
        },
        "id": "M8jLJunVkOtL",
        "outputId": "f82d608a-34fe-47f9-8279-281febc8de15"
      },
      "id": "M8jLJunVkOtL",
      "execution_count": 17,
      "outputs": [
        {
          "output_type": "stream",
          "name": "stderr",
          "text": [
            "The attention mask and the pad token id were not set. As a consequence, you may observe unexpected behavior. Please pass your input's `attention_mask` to obtain reliable results.\n",
            "Setting `pad_token_id` to `eos_token_id`:50256 for open-end generation.\n",
            "A decoder-only architecture is being used, but right-padding was detected! For correct generation results, please set `padding_side='left'` when initializing the tokenizer.\n"
          ]
        },
        {
          "output_type": "stream",
          "name": "stdout",
          "text": [
            "Conversation id: 2d013ce2-756d-40b4-83fd-5525f2f934e2\n",
            "user: give me a recipe of cocktail?\n",
            "assistant: WASHINGTON (Reuters) - A New York City cabdriver was charged on Monday with multiple counts of drunk driving, the latest in a slew of high-profile incidents in the so-called \"Cab Call\" scandal, as the city worked to settle the dispute with the caddy's club.\n",
            "\n",
            "Anthony Bologna, the cabdriver charged with multiple counts of DWI, is seen in this still image from a video shot in the Bronx on July 23, 2012. REUTERS/Algernon Blackmore/Invision/Handout via REUTERS\n",
            "\n",
            "Police charged 71-year-old Tony Bungle with two counts of driving while intoxicated, one for each of the past two days, according to a news release from the Manhattan district attorney's office.\n",
            "\n",
            "The mugshot from the New York City Polyclinic shows Bungle sitting motionless at the table with a glass of milk.\n",
            "\n",
            "On the side of the mugshot, his signature large, black, orange glow, one that appears to have been given to him by the bartender, is also visible, the district attorney spokesman said.\n",
            "\n",
            "Bungle, who was charged with multiple counts of DWI on page two of the mug shot, appears to be in good spirits, the district rep\n",
            "user: please give me another cocktail recipe?\n",
            "assistant: ..  Ingredients:  1. The Ultimate Cocktail, 3 Dashes Angostura Bitters (most popular), 0.5 oz. Lime Juice, 1.5 Tsp. Grenadine, shake on ice and strain. Directions: Shake liquid ingredients with ice. Strain into a chilled cocktail glass. Garnish with a slice of lime.. \n",
            "user: please directively describe the recipe?\n",
            "assistant: ’Obey the Law’s Directions’s Guide: Don't drink and drive. No one’s business is secure from the flim-flamme.’s absinthe swizzle or Jameson Irish Cream.’s the perfect substitute.’s a variation on a Mary’s mare: one of those Southern belle types’s favorite drinks. If served in an appropriately seperated glass, there’s no point in claiming the honor.’s all that., Garnish with a lemon twist, and serve in a chilled cocktail glass. Directions: Build ingredients in a highball glass filled with ice. Garnish with lemon twist and serve with ice in the collins glass., Yes, this simple to make cocktail still goes well with lemon wedge and a cherry.. Garnish with lemon twist and serve in a chilled cocktail glass.\n",
            "user: please give me the recipe of Admiral Russell's Punch?\n",
            "assistant: ““The Colonel's Punch“ is a Canadian classic made with ginger- infused brandy, cucumber juice, cream, sugar, and Worcestershire sauce. The Colonel is a signature drink from the Royal Canadian Navy, and was the inspiration for a number of popular cocktails, from the Screwdriver to the Black Bartender. This cocktail calls for brandy, cucumber juice, Worcestershire sauce, and fresh lemon juice, and can be made with either vodka or Dry Gin, but will always be suitable with orange juice, lemon juice, and simple syrup.. Directions: Dash the crème de cacao on a cocktail glass, and add a splash of Angostura Bitters. Set aside. Combine ginger and Worcestershire in a shaker. Shake vigorously for a few minutes, and strain into a cocktail glass. Float the lemon juice on top of the drink, resting it on the rim. Sprinkle the top with crushed ice, if desired.. \n",
            "\n"
          ]
        }
      ]
    },
    {
      "cell_type": "markdown",
      "id": "770d8ff6",
      "metadata": {
        "id": "770d8ff6"
      },
      "source": [
        "# GUI window(run locally)"
      ]
    },
    {
      "cell_type": "markdown",
      "source": [
        "## define the chat function(run locally)"
      ],
      "metadata": {
        "id": "08dUG4LtpmDk"
      },
      "id": "08dUG4LtpmDk"
    },
    {
      "cell_type": "code",
      "execution_count": null,
      "id": "e7f6344f",
      "metadata": {
        "id": "e7f6344f"
      },
      "outputs": [],
      "source": [
        "# Initialize pipeline 'chatbot'\n",
        "chatbot = pipeline('conversational', model=model, tokenizer=tokenizer)\n",
        "\n",
        "i = 0\n",
        "\n",
        "def chat(user_input):\n",
        "  global i\n",
        "  global conversation\n",
        "  if i == 0:\n",
        "# Conversation objects initialized with a string will treat it as a user message\n",
        "    conversation = Conversation(user_input)\n",
        "# generate conversation by pipeline\n",
        "    conversation = chatbot(conversation)\n",
        "    i = i + 1\n",
        "  else:\n",
        "# add user input添加输入\n",
        "    conversation.add_user_input(user_input)\n",
        "# generate conversation生成对话\n",
        "    conversation = chatbot(conversation)\n",
        "    i = i + 1\n",
        "  return conversation"
      ]
    },
    {
      "cell_type": "markdown",
      "source": [
        "## GUI(run locally)"
      ],
      "metadata": {
        "id": "LoH7KlL5hW-p"
      },
      "id": "LoH7KlL5hW-p"
    },
    {
      "cell_type": "code",
      "execution_count": null,
      "id": "e52ebe70",
      "metadata": {
        "id": "e52ebe70"
      },
      "outputs": [],
      "source": [
        "import tkinter as tk"
      ]
    },
    {
      "cell_type": "code",
      "execution_count": null,
      "id": "ec1c7ff6",
      "metadata": {
        "id": "ec1c7ff6",
        "colab": {
          "base_uri": "https://localhost:8080/",
          "height": 332
        },
        "outputId": "14c077db-2606-4271-d5d4-eb5cfb4dc5f6"
      },
      "outputs": [
        {
          "output_type": "error",
          "ename": "TclError",
          "evalue": "no display name and no $DISPLAY environment variable",
          "traceback": [
            "\u001b[0;31m---------------------------------------------------------------------------\u001b[0m",
            "\u001b[0;31mTclError\u001b[0m                                  Traceback (most recent call last)",
            "\u001b[0;32m<ipython-input-14-a84639817468>\u001b[0m in \u001b[0;36m<cell line: 15>\u001b[0;34m()\u001b[0m\n\u001b[1;32m     13\u001b[0m \u001b[0;34m\u001b[0m\u001b[0m\n\u001b[1;32m     14\u001b[0m \u001b[0;31m# create the main window\u001b[0m\u001b[0;34m\u001b[0m\u001b[0;34m\u001b[0m\u001b[0m\n\u001b[0;32m---> 15\u001b[0;31m \u001b[0mroot\u001b[0m \u001b[0;34m=\u001b[0m \u001b[0mtk\u001b[0m\u001b[0;34m.\u001b[0m\u001b[0mTk\u001b[0m\u001b[0;34m(\u001b[0m\u001b[0;34m)\u001b[0m\u001b[0;34m\u001b[0m\u001b[0;34m\u001b[0m\u001b[0m\n\u001b[0m\u001b[1;32m     16\u001b[0m \u001b[0mroot\u001b[0m\u001b[0;34m.\u001b[0m\u001b[0mtitle\u001b[0m\u001b[0;34m(\u001b[0m\u001b[0;34m\"Cocktail Asistant\"\u001b[0m\u001b[0;34m)\u001b[0m\u001b[0;34m\u001b[0m\u001b[0;34m\u001b[0m\u001b[0m\n\u001b[1;32m     17\u001b[0m \u001b[0;31m# label1\u001b[0m\u001b[0;34m\u001b[0m\u001b[0;34m\u001b[0m\u001b[0m\n",
            "\u001b[0;32m/usr/lib/python3.10/tkinter/__init__.py\u001b[0m in \u001b[0;36m__init__\u001b[0;34m(self, screenName, baseName, className, useTk, sync, use)\u001b[0m\n\u001b[1;32m   2297\u001b[0m                 \u001b[0mbaseName\u001b[0m \u001b[0;34m=\u001b[0m \u001b[0mbaseName\u001b[0m \u001b[0;34m+\u001b[0m \u001b[0mext\u001b[0m\u001b[0;34m\u001b[0m\u001b[0;34m\u001b[0m\u001b[0m\n\u001b[1;32m   2298\u001b[0m         \u001b[0minteractive\u001b[0m \u001b[0;34m=\u001b[0m \u001b[0;32mFalse\u001b[0m\u001b[0;34m\u001b[0m\u001b[0;34m\u001b[0m\u001b[0m\n\u001b[0;32m-> 2299\u001b[0;31m         \u001b[0mself\u001b[0m\u001b[0;34m.\u001b[0m\u001b[0mtk\u001b[0m \u001b[0;34m=\u001b[0m \u001b[0m_tkinter\u001b[0m\u001b[0;34m.\u001b[0m\u001b[0mcreate\u001b[0m\u001b[0;34m(\u001b[0m\u001b[0mscreenName\u001b[0m\u001b[0;34m,\u001b[0m \u001b[0mbaseName\u001b[0m\u001b[0;34m,\u001b[0m \u001b[0mclassName\u001b[0m\u001b[0;34m,\u001b[0m \u001b[0minteractive\u001b[0m\u001b[0;34m,\u001b[0m \u001b[0mwantobjects\u001b[0m\u001b[0;34m,\u001b[0m \u001b[0museTk\u001b[0m\u001b[0;34m,\u001b[0m \u001b[0msync\u001b[0m\u001b[0;34m,\u001b[0m \u001b[0muse\u001b[0m\u001b[0;34m)\u001b[0m\u001b[0;34m\u001b[0m\u001b[0;34m\u001b[0m\u001b[0m\n\u001b[0m\u001b[1;32m   2300\u001b[0m         \u001b[0;32mif\u001b[0m \u001b[0museTk\u001b[0m\u001b[0;34m:\u001b[0m\u001b[0;34m\u001b[0m\u001b[0;34m\u001b[0m\u001b[0m\n\u001b[1;32m   2301\u001b[0m             \u001b[0mself\u001b[0m\u001b[0;34m.\u001b[0m\u001b[0m_loadtk\u001b[0m\u001b[0;34m(\u001b[0m\u001b[0;34m)\u001b[0m\u001b[0;34m\u001b[0m\u001b[0;34m\u001b[0m\u001b[0m\n",
            "\u001b[0;31mTclError\u001b[0m: no display name and no $DISPLAY environment variable"
          ]
        }
      ],
      "source": [
        "def commit_requirements():\n",
        "  global conversation\n",
        "  commands = entry.get()\n",
        "  conversation = chat(commands)\n",
        "#   recommendation = generator(commands, max_length=300)\n",
        "  label2.config(text=f\"{conversation}\")\n",
        "  label3.config(text=i)\n",
        "\n",
        "def restart():\n",
        "  global i\n",
        "  i = 0\n",
        "  label3.config(text=i)\n",
        "\n",
        "# create the main window\n",
        "root = tk.Tk()\n",
        "root.title(\"Cocktail Asistant\")\n",
        "# label1\n",
        "label1 = tk.Label(root, text=\"Welcome to Cocktail Asistant! Please write your command:\")\n",
        "label1.pack(pady=10)\n",
        "# entry widget\n",
        "entry = tk.Entry(root, width=40)\n",
        "entry.pack(pady=10)\n",
        "# button1\n",
        "button1 = tk.Button(root, text=\"commit\", command=commit_requirements)\n",
        "button1.pack(pady=10)\n",
        "# label2\n",
        "label2 = tk.Label(root, text=\"Here's my recommendation\", wraplength=400, justify='left')\n",
        "label2.pack(pady=10)\n",
        "# button2\n",
        "button2 = tk.Button(root, text=\"restart\", command=restart)\n",
        "button2.pack(pady=10)\n",
        "# label3\n",
        "label3 = tk.Label(root, text=\"round number\", wraplength=400)\n",
        "label3.pack(pady=10)\n",
        "# start the event loop\n",
        "root.mainloop()"
      ]
    }
  ],
  "metadata": {
    "kernelspec": {
      "display_name": "Python 3",
      "name": "python3"
    },
    "language_info": {
      "codemirror_mode": {
        "name": "ipython",
        "version": 3
      },
      "file_extension": ".py",
      "mimetype": "text/x-python",
      "name": "python",
      "nbconvert_exporter": "python",
      "pygments_lexer": "ipython3",
      "version": "3.10.9"
    },
    "colab": {
      "provenance": [],
      "collapsed_sections": [
        "_L9jPPUDpSJQ",
        "H2wpSR33qBEp",
        "28oGoOm5pgVo",
        "08dUG4LtpmDk",
        "770d8ff6"
      ],
      "toc_visible": true
    }
  },
  "nbformat": 4,
  "nbformat_minor": 5
}